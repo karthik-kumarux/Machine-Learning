{
 "cells": [
  {
   "cell_type": "code",
   "execution_count": 1,
   "id": "748cf662-c6b7-488a-9bca-06bd4b53202c",
   "metadata": {},
   "outputs": [
    {
     "name": "stdout",
     "output_type": "stream",
     "text": [
      "Depth-First Search starting from node 0:\n",
      "0 1 3 4 2 "
     ]
    }
   ],
   "source": [
    "class Graph:\n",
    "    def __init__(self, vertices):\n",
    "        \"\"\"Initialize the graph with a given number of vertices.\"\"\"\n",
    "        self.vertices = vertices\n",
    "        self.graph = {i: [] for i in range(vertices)}  # Dictionary to store adjacency lists\n",
    "\n",
    "    def add_edge(self, u, v):\n",
    "        \"\"\"Add an edge to the graph.\"\"\"\n",
    "        self.graph[u].append(v)\n",
    "\n",
    "    def dfs(self, start):\n",
    "        \"\"\"Perform DFS traversal starting from the given node.\"\"\"\n",
    "        visited = set()  # Track visited nodes\n",
    "        self._dfs_util(start, visited)\n",
    "\n",
    "    def _dfs_util(self, node, visited):\n",
    "        \"\"\"Recursive utility function for DFS traversal.\"\"\"\n",
    "        visited.add(node)\n",
    "        print(node, end=\" \")\n",
    "\n",
    "        for neighbor in self.graph[node]:\n",
    "            if neighbor not in visited:\n",
    "                self._dfs_util(neighbor, visited)\n",
    "\n",
    "# Driver code\n",
    "if __name__ == \"__main__\":\n",
    "    g = Graph(5)\n",
    "    \n",
    "    # Adding edges\n",
    "    g.add_edge(0, 1)\n",
    "    g.add_edge(0, 2)\n",
    "    g.add_edge(1, 3)\n",
    "    g.add_edge(1, 4)\n",
    "\n",
    "    print(\"Depth-First Search starting from node 0:\")\n",
    "    g.dfs(0)\n"
   ]
  },
  {
   "cell_type": "code",
   "execution_count": null,
   "id": "8a3a6a75-d3f6-4dbf-9742-b6c6f5e998d0",
   "metadata": {},
   "outputs": [],
   "source": []
  }
 ],
 "metadata": {
  "kernelspec": {
   "display_name": "Python 3 (ipykernel)",
   "language": "python",
   "name": "python3"
  },
  "language_info": {
   "codemirror_mode": {
    "name": "ipython",
    "version": 3
   },
   "file_extension": ".py",
   "mimetype": "text/x-python",
   "name": "python",
   "nbconvert_exporter": "python",
   "pygments_lexer": "ipython3",
   "version": "3.11.9"
  }
 },
 "nbformat": 4,
 "nbformat_minor": 5
}
