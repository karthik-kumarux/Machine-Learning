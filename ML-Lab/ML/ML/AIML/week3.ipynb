{
 "cells": [
  {
   "cell_type": "code",
   "execution_count": 1,
   "id": "244ec0b9-02e5-4760-b199-422dce190373",
   "metadata": {},
   "outputs": [
    {
     "name": "stdout",
     "output_type": "stream",
     "text": [
      "BFS Traversal starting from node 0:\n",
      "0 1 2 3 4 5 "
     ]
    }
   ],
   "source": [
    "from collections import deque\n",
    "\n",
    "class Graph:\n",
    "    def __init__(self, vertices):\n",
    "        \"\"\"Initialize the graph with a given number of vertices.\"\"\"\n",
    "        self.vertices = vertices\n",
    "        self.graph = {i: [] for i in range(vertices)}  # Dictionary to store adjacency lists\n",
    "\n",
    "    def add_edge(self, u, v):\n",
    "        \"\"\"Add an edge to the graph.\"\"\"\n",
    "        self.graph[u].append(v)\n",
    "\n",
    "    def bfs(self, start):\n",
    "        \"\"\"Perform BFS traversal starting from the given node.\"\"\"\n",
    "        visited = set()  # Track visited nodes\n",
    "        queue = deque([start])  # Queue for BFS traversal\n",
    "        \n",
    "        visited.add(start)\n",
    "        print(f\"BFS Traversal starting from node {start}:\")\n",
    "\n",
    "        while queue:\n",
    "            vertex = queue.popleft()\n",
    "            print(vertex, end=\" \")\n",
    "\n",
    "            for neighbor in self.graph[vertex]:\n",
    "                if neighbor not in visited:\n",
    "                    visited.add(neighbor)\n",
    "                    queue.append(neighbor)\n",
    "\n",
    "# Driver code\n",
    "if __name__ == \"__main__\":\n",
    "    g = Graph(6)\n",
    "    \n",
    "    # Adding edges\n",
    "    g.add_edge(0, 1)\n",
    "    g.add_edge(0, 2)\n",
    "    g.add_edge(1, 3)\n",
    "    g.add_edge(1, 4)\n",
    "    g.add_edge(2, 5)\n",
    "\n",
    "    # Perform BFS traversal\n",
    "    g.bfs(0)\n"
   ]
  },
  {
   "cell_type": "code",
   "execution_count": null,
   "id": "144f146e-46c7-4088-906a-57af7547b29f",
   "metadata": {},
   "outputs": [],
   "source": []
  }
 ],
 "metadata": {
  "kernelspec": {
   "display_name": "Python 3 (ipykernel)",
   "language": "python",
   "name": "python3"
  },
  "language_info": {
   "codemirror_mode": {
    "name": "ipython",
    "version": 3
   },
   "file_extension": ".py",
   "mimetype": "text/x-python",
   "name": "python",
   "nbconvert_exporter": "python",
   "pygments_lexer": "ipython3",
   "version": "3.11.9"
  }
 },
 "nbformat": 4,
 "nbformat_minor": 5
}
