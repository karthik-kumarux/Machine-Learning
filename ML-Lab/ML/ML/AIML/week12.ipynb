{
 "cells": [
  {
   "cell_type": "code",
   "execution_count": 1,
   "id": "a770fcf3-44cf-4eab-80c9-ccae27d757d2",
   "metadata": {},
   "outputs": [
    {
     "name": "stdout",
     "output_type": "stream",
     "text": [
      "Sample data saved to sample_data.csv\n",
      "\n",
      "--- Evaluation ---\n",
      "Accuracy: 100.00%\n",
      "\n",
      "Classification Report:\n",
      "               precision    recall  f1-score   support\n",
      "\n",
      "           A       1.00      1.00      1.00         2\n",
      "\n",
      "    accuracy                           1.00         2\n",
      "   macro avg       1.00      1.00      1.00         2\n",
      "weighted avg       1.00      1.00      1.00         2\n",
      "\n"
     ]
    }
   ],
   "source": [
    "import pandas as pd\n",
    "from sklearn.model_selection import train_test_split\n",
    "from sklearn.naive_bayes import GaussianNB\n",
    "from sklearn.metrics import accuracy_score, classification_report\n",
    "\n",
    "# Step 1: Create dataset\n",
    "data = {\n",
    "    'Feature1': [2.5, 1.3, 3.3, 2.1, 1.1, 3.0, 1.5, 2.8, 1.0, 2.7],\n",
    "    'Feature2': [1.7, 3.5, 2.1, 1.9, 3.0, 2.2, 3.2, 2.0, 3.1, 1.8],\n",
    "    'Class': ['A', 'B', 'A', 'A', 'B', 'A', 'B', 'A', 'B', 'A']\n",
    "}\n",
    "df = pd.DataFrame(data)\n",
    "\n",
    "# Step 2: Save to CSV (optional but useful for later reference)\n",
    "csv_filename = 'sample_data.csv'\n",
    "df.to_csv(csv_filename, index=False)\n",
    "print(f\"Sample data saved to {csv_filename}\")\n",
    "\n",
    "# Step 3: Load data\n",
    "df = pd.read_csv(csv_filename)\n",
    "\n",
    "# Step 4: Preprocess data\n",
    "X = df[['Feature1', 'Feature2']].values\n",
    "y = df['Class'].values\n",
    "\n",
    "# Step 5: Split into training and testing sets (80% train, 20% test)\n",
    "X_train, X_test, y_train, y_test = train_test_split(X, y, test_size=0.2, random_state=1)\n",
    "\n",
    "# Step 6: Train Naïve Bayes classifier\n",
    "model = GaussianNB()\n",
    "model.fit(X_train, y_train)\n",
    "\n",
    "# Step 7: Predict and evaluate\n",
    "y_pred = model.predict(X_test)\n",
    "accuracy = accuracy_score(y_test, y_pred)\n",
    "report = classification_report(y_test, y_pred)\n",
    "\n",
    "# Step 8: Output results\n",
    "print(\"\\n--- Evaluation ---\")\n",
    "print(f\"Accuracy: {accuracy * 100:.2f}%\")\n",
    "print(\"\\nClassification Report:\\n\", report)\n"
   ]
  },
  {
   "cell_type": "code",
   "execution_count": null,
   "id": "85479b3f-6b97-4f32-89ca-671cd3ada93a",
   "metadata": {},
   "outputs": [],
   "source": []
  }
 ],
 "metadata": {
  "kernelspec": {
   "display_name": "Python 3 (ipykernel)",
   "language": "python",
   "name": "python3"
  },
  "language_info": {
   "codemirror_mode": {
    "name": "ipython",
    "version": 3
   },
   "file_extension": ".py",
   "mimetype": "text/x-python",
   "name": "python",
   "nbconvert_exporter": "python",
   "pygments_lexer": "ipython3",
   "version": "3.11.9"
  }
 },
 "nbformat": 4,
 "nbformat_minor": 5
}
