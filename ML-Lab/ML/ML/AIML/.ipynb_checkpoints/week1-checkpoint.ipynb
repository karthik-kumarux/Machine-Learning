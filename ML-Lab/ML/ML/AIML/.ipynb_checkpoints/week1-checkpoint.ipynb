{
 "cells": [
  {
   "cell_type": "code",
   "execution_count": 1,
   "id": "94c7cde2-62ef-40f3-b4ca-84f53ca42906",
   "metadata": {},
   "outputs": [
    {
     "name": "stdout",
     "output_type": "stream",
     "text": [
      "Pandas Series with custom labels:\n",
      "a    10\n",
      "b    20\n",
      "c    30\n",
      "d    40\n",
      "e    50\n",
      "dtype: int64\n"
     ]
    }
   ],
   "source": [
    "import pandas as pd\n",
    "\n",
    "data = [10, 20, 30, 40, 50]\n",
    "labels = ['a', 'b', 'c', 'd', 'e']\n",
    "\n",
    "series = pd.Series(data, index=labels)\n",
    "print(\"Pandas Series with custom labels:\")\n",
    "print(series)\n"
   ]
  },
  {
   "cell_type": "code",
   "execution_count": 2,
   "id": "c600a015-a7d1-4f4b-ab0b-a84956af2cec",
   "metadata": {},
   "outputs": [
    {
     "name": "stdout",
     "output_type": "stream",
     "text": [
      "Pandas Series from Dictionary:\n",
      "a    10\n",
      "b    20\n",
      "c    30\n",
      "d    40\n",
      "e    50\n",
      "dtype: int64\n"
     ]
    }
   ],
   "source": [
    "import pandas as pd\n",
    "\n",
    "data_dict = {'a': 10, 'b': 20, 'c': 30, 'd': 40, 'e': 50}\n",
    "series_from_dict = pd.Series(data_dict)\n",
    "\n",
    "print(\"Pandas Series from Dictionary:\")\n",
    "print(series_from_dict)\n"
   ]
  },
  {
   "cell_type": "code",
   "execution_count": 3,
   "id": "bdbad046-99c8-4386-85f0-56105c3f2557",
   "metadata": {},
   "outputs": [
    {
     "name": "stdout",
     "output_type": "stream",
     "text": [
      "DataFrame created from a dictionary:\n",
      "      Name  Age         City\n",
      "0    Alice   25     New York\n",
      "1      Bob   30  Los Angeles\n",
      "2  Charlie   35      Chicago\n"
     ]
    }
   ],
   "source": [
    "import pandas as pd\n",
    "\n",
    "data_dict = {\n",
    "    'Name': ['Alice', 'Bob', 'Charlie'],\n",
    "    'Age': [25, 30, 35],\n",
    "    'City': ['New York', 'Los Angeles', 'Chicago']\n",
    "}\n",
    "\n",
    "df = pd.DataFrame(data_dict)\n",
    "print(\"DataFrame created from a dictionary:\")\n",
    "print(df)\n"
   ]
  },
  {
   "cell_type": "code",
   "execution_count": 4,
   "id": "4288904f-74db-436c-9e78-d4ab2d74df7c",
   "metadata": {},
   "outputs": [
    {
     "name": "stdout",
     "output_type": "stream",
     "text": [
      "DataFrame created from a list of lists:\n",
      "      Name  Age         City\n",
      "0    Alice   25     New York\n",
      "1      Bob   30  Los Angeles\n",
      "2  Charlie   35      Chicago\n"
     ]
    }
   ],
   "source": [
    "import pandas as pd\n",
    "\n",
    "data_list = [\n",
    "    ['Alice', 25, 'New York'],\n",
    "    ['Bob', 30, 'Los Angeles'],\n",
    "    ['Charlie', 35, 'Chicago']\n",
    "]\n",
    "\n",
    "df = pd.DataFrame(data_list, columns=['Name', 'Age', 'City'])\n",
    "print(\"DataFrame created from a list of lists:\")\n",
    "print(df)\n"
   ]
  },
  {
   "cell_type": "code",
   "execution_count": 5,
   "id": "f14d1449-df14-4901-b7b6-a370998f1657",
   "metadata": {},
   "outputs": [
    {
     "name": "stdout",
     "output_type": "stream",
     "text": [
      "DataFrame created from a list of dictionaries:\n",
      "      Name  Age         City\n",
      "0    Alice   25     New York\n",
      "1      Bob   30  Los Angeles\n",
      "2  Charlie   35      Chicago\n"
     ]
    }
   ],
   "source": [
    "import pandas as pd\n",
    "\n",
    "data_dict_list = [\n",
    "    {'Name': 'Alice', 'Age': 25, 'City': 'New York'},\n",
    "    {'Name': 'Bob', 'Age': 30, 'City': 'Los Angeles'},\n",
    "    {'Name': 'Charlie', 'Age': 35, 'City': 'Chicago'}\n",
    "]\n",
    "\n",
    "df = pd.DataFrame(data_dict_list)\n",
    "print(\"DataFrame created from a list of dictionaries:\")\n",
    "print(df)\n"
   ]
  },
  {
   "cell_type": "code",
   "execution_count": 6,
   "id": "753e6014-9a34-4a4a-be23-429e76c3f4a6",
   "metadata": {},
   "outputs": [
    {
     "name": "stdout",
     "output_type": "stream",
     "text": [
      "DataFrame after adding rows:\n",
      "      Name Age         City\n",
      "0    Alice  25     New York\n",
      "1      Bob  30  Los Angeles\n",
      "2  Charlie  35      Chicago\n"
     ]
    }
   ],
   "source": [
    "import pandas as pd\n",
    "\n",
    "df = pd.DataFrame(columns=['Name', 'Age', 'City'])\n",
    "data = [\n",
    "    {'Name': 'Alice', 'Age': 25, 'City': 'New York'},\n",
    "    {'Name': 'Bob', 'Age': 30, 'City': 'Los Angeles'},\n",
    "    {'Name': 'Charlie', 'Age': 35, 'City': 'Chicago'}\n",
    "]\n",
    "\n",
    "df = pd.concat([df, pd.DataFrame(data)], ignore_index=True)\n",
    "print(\"DataFrame after adding rows:\")\n",
    "print(df)\n"
   ]
  },
  {
   "cell_type": "code",
   "execution_count": 7,
   "id": "1e8caaf7-6543-4c60-8b91-e5bfded8c8a5",
   "metadata": {},
   "outputs": [
    {
     "name": "stdout",
     "output_type": "stream",
     "text": [
      "DataFrame with Multi-Level Index:\n",
      "                      Values\n",
      "Category Subcategory        \n",
      "A        X                 1\n",
      "         Y                 4\n",
      "B        X                 7\n",
      "         Y                10\n"
     ]
    }
   ],
   "source": [
    "import pandas as pd\n",
    "\n",
    "data = {\n",
    "    'Category': ['A', 'A', 'B', 'B'],\n",
    "    'Subcategory': ['X', 'Y', 'X', 'Y'],\n",
    "    'Values': [1, 4, 7, 10]\n",
    "}\n",
    "\n",
    "df = pd.DataFrame(data).set_index(['Category', 'Subcategory'])\n",
    "print(\"DataFrame with Multi-Level Index:\")\n",
    "print(df)\n"
   ]
  },
  {
   "cell_type": "code",
   "execution_count": 8,
   "id": "98749b29-fc8f-4ae2-9975-4bfb27d95d30",
   "metadata": {},
   "outputs": [
    {
     "name": "stdout",
     "output_type": "stream",
     "text": [
      "Summary of numeric columns using describe():\n",
      "             Age        Salary\n",
      "count   5.000000      5.000000\n",
      "mean   35.000000  70000.000000\n",
      "std     7.905694  15811.388301\n",
      "min    25.000000  50000.000000\n",
      "25%    30.000000  60000.000000\n",
      "50%    35.000000  70000.000000\n",
      "75%    40.000000  80000.000000\n",
      "max    45.000000  90000.000000\n"
     ]
    }
   ],
   "source": [
    "import pandas as pd\n",
    "\n",
    "data = {\n",
    "    'Name': ['Alice', 'Bob', 'Charlie', 'David', 'Eva'],\n",
    "    'Age': [25, 30, 35, 40, 45],\n",
    "    'Salary': [50000, 60000, 70000, 80000, 90000]\n",
    "}\n",
    "\n",
    "df = pd.DataFrame(data)\n",
    "print(\"Summary of numeric columns using describe():\")\n",
    "print(df.describe())\n"
   ]
  },
  {
   "cell_type": "code",
   "execution_count": 9,
   "id": "492cb318-ae07-4d9f-a318-bfa82e160a52",
   "metadata": {},
   "outputs": [
    {
     "name": "stdout",
     "output_type": "stream",
     "text": [
      "First 3 rows of the DataFrame using head():\n",
      "      Name  Age  Salary\n",
      "0    Alice   25   50000\n",
      "1      Bob   30   60000\n",
      "2  Charlie   35   70000\n"
     ]
    }
   ],
   "source": [
    "print(\"First 3 rows of the DataFrame using head():\")\n",
    "print(df.head(3))\n"
   ]
  },
  {
   "cell_type": "code",
   "execution_count": 10,
   "id": "1facbe1e-bd9a-4a1b-b412-b5b9e1a95c07",
   "metadata": {},
   "outputs": [
    {
     "name": "stdout",
     "output_type": "stream",
     "text": [
      "Last 2 rows of the DataFrame using tail():\n",
      "    Name  Age  Salary\n",
      "3  David   40   80000\n",
      "4    Eva   45   90000\n"
     ]
    }
   ],
   "source": [
    "print(\"Last 2 rows of the DataFrame using tail():\")\n",
    "print(df.tail(2))\n"
   ]
  },
  {
   "cell_type": "code",
   "execution_count": 11,
   "id": "42dab44a-2447-4f73-ba12-86697e1a22f4",
   "metadata": {},
   "outputs": [
    {
     "name": "stdout",
     "output_type": "stream",
     "text": [
      "<class 'pandas.core.frame.DataFrame'>\n",
      "RangeIndex: 5 entries, 0 to 4\n",
      "Data columns (total 3 columns):\n",
      " #   Column  Non-Null Count  Dtype \n",
      "---  ------  --------------  ----- \n",
      " 0   Name    5 non-null      object\n",
      " 1   Age     5 non-null      int64 \n",
      " 2   Salary  5 non-null      int64 \n",
      "dtypes: int64(2), object(1)\n",
      "memory usage: 252.0+ bytes\n"
     ]
    }
   ],
   "source": [
    "df.info()\n"
   ]
  },
  {
   "cell_type": "code",
   "execution_count": 12,
   "id": "8b52c3eb-7ab8-4a41-9b86-9b47184d5420",
   "metadata": {},
   "outputs": [
    {
     "name": "stdout",
     "output_type": "stream",
     "text": [
      "DataFrame created from a NumPy array:\n",
      "       A  B  C\n",
      "Row 1  1  2  3\n",
      "Row 2  4  5  6\n",
      "Row 3  7  8  9\n"
     ]
    }
   ],
   "source": [
    "import numpy as np\n",
    "\n",
    "data = np.array([[1, 2, 3], [4, 5, 6], [7, 8, 9]])\n",
    "df = pd.DataFrame(data, columns=['A', 'B', 'C'], index=['Row 1', 'Row 2', 'Row 3'])\n",
    "\n",
    "print(\"DataFrame created from a NumPy array:\")\n",
    "print(df)\n"
   ]
  },
  {
   "cell_type": "code",
   "execution_count": null,
   "id": "8fa2ddcd-8a01-46db-b2ef-5604cfc3e894",
   "metadata": {},
   "outputs": [],
   "source": []
  }
 ],
 "metadata": {
  "kernelspec": {
   "display_name": "Python 3 (ipykernel)",
   "language": "python",
   "name": "python3"
  },
  "language_info": {
   "codemirror_mode": {
    "name": "ipython",
    "version": 3
   },
   "file_extension": ".py",
   "mimetype": "text/x-python",
   "name": "python",
   "nbconvert_exporter": "python",
   "pygments_lexer": "ipython3",
   "version": "3.11.9"
  }
 },
 "nbformat": 4,
 "nbformat_minor": 5
}
