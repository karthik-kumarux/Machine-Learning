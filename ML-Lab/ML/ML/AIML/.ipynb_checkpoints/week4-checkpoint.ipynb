{
 "cells": [
  {
   "cell_type": "code",
   "execution_count": 1,
   "id": "3ef80ba4-c9ac-47ed-b620-d25ce97c804a",
   "metadata": {},
   "outputs": [
    {
     "name": "stdout",
     "output_type": "stream",
     "text": [
      "Best-First Search from A to E:\n",
      "Path found: ['A', 'B', 'D', 'E']\n"
     ]
    }
   ],
   "source": [
    "import heapq\n",
    "\n",
    "class Graph:\n",
    "    def __init__(self):\n",
    "        \"\"\"Initialize the graph as an adjacency list.\"\"\"\n",
    "        self.graph = {}\n",
    "\n",
    "    def add_edge(self, u, v, weight):\n",
    "        \"\"\"Add an edge to the graph.\"\"\"\n",
    "        if u not in self.graph:\n",
    "            self.graph[u] = []\n",
    "        self.graph[u].append((v, weight))\n",
    "\n",
    "    def best_first_search(self, start, goal):\n",
    "        \"\"\"Perform Best-First Search to find a path from start to goal.\"\"\"\n",
    "        open_list = []  # Priority queue using heapq\n",
    "        heapq.heappush(open_list, (0, start))\n",
    "        \n",
    "        parent = {start: None}  # Track parent nodes for path reconstruction\n",
    "        visited = set()  # Track visited nodes\n",
    "\n",
    "        print(f\"Best-First Search from {start} to {goal}:\")\n",
    "        \n",
    "        while open_list:\n",
    "            _, current_node = heapq.heappop(open_list)\n",
    "\n",
    "            if current_node == goal:\n",
    "                path = []\n",
    "                while current_node is not None:\n",
    "                    path.append(current_node)\n",
    "                    current_node = parent[current_node]\n",
    "                path.reverse()\n",
    "                print(\"Path found:\", path)\n",
    "                return\n",
    "\n",
    "            visited.add(current_node)\n",
    "\n",
    "            for neighbor, weight in self.graph.get(current_node, []):\n",
    "                if neighbor not in visited:\n",
    "                    heapq.heappush(open_list, (weight, neighbor))\n",
    "                    parent[neighbor] = current_node\n",
    "\n",
    "        print(\"No path found to the goal.\")\n",
    "\n",
    "# Example usage\n",
    "if __name__ == \"__main__\":\n",
    "    g = Graph()\n",
    "    g.add_edge(\"A\", \"B\", 1)\n",
    "    g.add_edge(\"A\", \"C\", 4)\n",
    "    g.add_edge(\"B\", \"D\", 2)\n",
    "    g.add_edge(\"C\", \"D\", 5)\n",
    "    g.add_edge(\"D\", \"E\", 3)\n",
    "\n",
    "    g.best_first_search(\"A\", \"E\")\n"
   ]
  },
  {
   "cell_type": "code",
   "execution_count": null,
   "id": "a92cdc6f-f776-42ed-bde0-c4d851a5e21b",
   "metadata": {},
   "outputs": [],
   "source": []
  }
 ],
 "metadata": {
  "kernelspec": {
   "display_name": "Python 3 (ipykernel)",
   "language": "python",
   "name": "python3"
  },
  "language_info": {
   "codemirror_mode": {
    "name": "ipython",
    "version": 3
   },
   "file_extension": ".py",
   "mimetype": "text/x-python",
   "name": "python",
   "nbconvert_exporter": "python",
   "pygments_lexer": "ipython3",
   "version": "3.11.9"
  }
 },
 "nbformat": 4,
 "nbformat_minor": 5
}
