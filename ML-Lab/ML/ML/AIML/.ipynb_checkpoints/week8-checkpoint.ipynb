{
 "cells": [
  {
   "cell_type": "code",
   "execution_count": 6,
   "id": "ece8bee1-a7fc-4924-ae38-f76f11e1bd0b",
   "metadata": {},
   "outputs": [
    {
     "name": "stdout",
     "output_type": "stream",
     "text": [
      "Selected Features:\n",
      "   SepalLengthCm  SepalWidthCm  PetalLengthCm  PetalWidthCm      Species\n",
      "0            5.1           3.5            1.4           0.2  Iris-setosa\n",
      "1            4.9           3.0            1.4           0.2  Iris-setosa\n",
      "2            4.7           3.2            1.3           0.2  Iris-setosa\n",
      "3            4.6           3.1            1.5           0.2  Iris-setosa\n",
      "4            5.0           3.6            1.4           0.2  Iris-setosa\n"
     ]
    }
   ],
   "source": [
    "import pandas as pd\n",
    "\n",
    "# Load dataset\n",
    "df = pd.read_csv('iris.csv')\n",
    "\n",
    "# Selecting relevant features\n",
    "selected_columns = ['SepalLengthCm', 'SepalWidthCm', 'PetalLengthCm', 'PetalWidthCm', 'Species']\n",
    "df_selected = df[selected_columns]\n",
    "\n",
    "print(\"Selected Features:\")\n",
    "print(df_selected.head())\n"
   ]
  },
  {
   "cell_type": "code",
   "execution_count": 7,
   "id": "e99ef6e6-3bac-4a68-8862-227ce25cbb29",
   "metadata": {},
   "outputs": [
    {
     "name": "stdout",
     "output_type": "stream",
     "text": [
      "Missing Values:\n",
      " SepalLengthCm    0\n",
      "SepalWidthCm     0\n",
      "PetalLengthCm    0\n",
      "PetalWidthCm     0\n",
      "Species          0\n",
      "dtype: int64\n",
      "Data after Dropping Missing Values:\n",
      "   SepalLengthCm  SepalWidthCm  PetalLengthCm  PetalWidthCm      Species\n",
      "0            5.1           3.5            1.4           0.2  Iris-setosa\n",
      "1            4.9           3.0            1.4           0.2  Iris-setosa\n",
      "2            4.7           3.2            1.3           0.2  Iris-setosa\n",
      "3            4.6           3.1            1.5           0.2  Iris-setosa\n",
      "4            5.0           3.6            1.4           0.2  Iris-setosa\n"
     ]
    }
   ],
   "source": [
    "# Check for missing values\n",
    "print(\"Missing Values:\\n\", df_selected.isnull().sum())\n",
    "\n",
    "# Dropping rows with missing values\n",
    "df_cleaned = df_selected.dropna()\n",
    "\n",
    "print(\"Data after Dropping Missing Values:\")\n",
    "print(df_cleaned.head())\n"
   ]
  },
  {
   "cell_type": "code",
   "execution_count": 8,
   "id": "9ecfe666-e3de-4893-93ca-c3f3e4ecf52f",
   "metadata": {},
   "outputs": [
    {
     "name": "stdout",
     "output_type": "stream",
     "text": [
      "Data after Sepal Length Discretization:\n",
      "   SepalLengthCm  SepalLengthBinned\n",
      "0            5.1                0.0\n",
      "1            4.9                0.0\n",
      "2            4.7                0.0\n",
      "3            4.6                0.0\n",
      "4            5.0                0.0\n"
     ]
    }
   ],
   "source": [
    "from sklearn.preprocessing import KBinsDiscretizer\n",
    "\n",
    "# Apply discretization on Sepal Length\n",
    "kbins = KBinsDiscretizer(n_bins=3, encode='ordinal', strategy='uniform')\n",
    "df_cleaned['SepalLengthBinned'] = kbins.fit_transform(df_cleaned[['SepalLengthCm']])\n",
    "\n",
    "print(\"Data after Sepal Length Discretization:\")\n",
    "print(df_cleaned[['SepalLengthCm', 'SepalLengthBinned']].head())\n"
   ]
  },
  {
   "cell_type": "code",
   "execution_count": null,
   "id": "74679673-f31c-4a54-b508-03e49c57a6cd",
   "metadata": {},
   "outputs": [],
   "source": [
    "import numpy as np\n",
    "from scipy import stats\n",
    "\n",
    "# Compute Z-scores for numeric columns\n",
    "z_scores = np.abs(stats.zscore(df_cleaned[['SepalLengthCm', 'SepalWidthCm', 'PetalLengthCm', 'PetalWidthCm']]))\n",
    "\n",
    "# Remove rows where Z-score > 3 (outliers)\n",
    "df_no_outliers = df_cleaned[(z_scores < 3).all(axis=1)]\n",
    "\n",
    "print(\"Data after Eliminating Outliers:\")\n",
    "print(df_no_outliers.head())\n"
   ]
  }
 ],
 "metadata": {
  "kernelspec": {
   "display_name": "Python 3 (ipykernel)",
   "language": "python",
   "name": "python3"
  },
  "language_info": {
   "codemirror_mode": {
    "name": "ipython",
    "version": 3
   },
   "file_extension": ".py",
   "mimetype": "text/x-python",
   "name": "python",
   "nbconvert_exporter": "python",
   "pygments_lexer": "ipython3",
   "version": "3.11.9"
  }
 },
 "nbformat": 4,
 "nbformat_minor": 5
}
