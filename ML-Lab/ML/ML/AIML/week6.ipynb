{
 "cells": [
  {
   "cell_type": "code",
   "execution_count": 1,
   "id": "864cbda2-989b-462f-b0aa-f87d12fd90d5",
   "metadata": {},
   "outputs": [
    {
     "name": "stdout",
     "output_type": "stream",
     "text": [
      "Path found: ['A', 'C', 'F']\n"
     ]
    }
   ],
   "source": [
    "import heapq\n",
    "\n",
    "class Node:\n",
    "    \"\"\"Represents a search node with a heuristic value.\"\"\"\n",
    "    def __init__(self, state, parent=None, h=0):\n",
    "        self.state = state\n",
    "        self.parent = parent\n",
    "        self.h = h  # Heuristic value\n",
    "\n",
    "    def __lt__(self, other):\n",
    "        \"\"\"Defines comparison for priority queue sorting based on heuristic.\"\"\"\n",
    "        return self.h < other.h\n",
    "\n",
    "def greedy_best_first_search(start, goal, heuristic):\n",
    "    \"\"\"Perform Greedy Best-First Search to find a path from start to goal.\"\"\"\n",
    "    open_list = []\n",
    "    heapq.heappush(open_list, Node(start, None, heuristic[start]))\n",
    "    closed_list = set()\n",
    "\n",
    "    while open_list:\n",
    "        current_node = heapq.heappop(open_list)\n",
    "\n",
    "        if current_node.state == goal:\n",
    "            path = []\n",
    "            while current_node is not None:\n",
    "                path.append(current_node.state)\n",
    "                current_node = current_node.parent\n",
    "            return path[::-1]  # Reverse the path\n",
    "\n",
    "        closed_list.add(current_node.state)\n",
    "\n",
    "        for neighbor in get_neighbors(current_node.state):\n",
    "            if neighbor not in closed_list:\n",
    "                heapq.heappush(open_list, Node(neighbor, current_node, heuristic[neighbor]))\n",
    "\n",
    "    return None  # No solution found\n",
    "\n",
    "def get_neighbors(state):\n",
    "    \"\"\"Define possible state transitions (neighbors).\"\"\"\n",
    "    neighbor_map = {\n",
    "        \"A\": [\"B\", \"C\"],\n",
    "        \"B\": [\"D\", \"E\"],\n",
    "        \"C\": [\"F\"],\n",
    "        \"D\": [],\n",
    "        \"E\": [\"F\"],\n",
    "        \"F\": []\n",
    "    }\n",
    "    return neighbor_map.get(state, [])\n",
    "\n",
    "# Heuristic values\n",
    "heuristic = {\n",
    "    \"A\": 6, \"B\": 5, \"C\": 4, \"D\": 3, \"E\": 2, \"F\": 0\n",
    "}\n",
    "\n",
    "# Running the search algorithm\n",
    "start = \"A\"\n",
    "goal = \"F\"\n",
    "path = greedy_best_first_search(start, goal, heuristic)\n",
    "\n",
    "print(\"Path found:\", path if path else \"No path found.\")\n"
   ]
  },
  {
   "cell_type": "code",
   "execution_count": null,
   "id": "8f89040c-9149-45b0-b1a7-84d748ec0374",
   "metadata": {},
   "outputs": [],
   "source": []
  }
 ],
 "metadata": {
  "kernelspec": {
   "display_name": "Python 3 (ipykernel)",
   "language": "python",
   "name": "python3"
  },
  "language_info": {
   "codemirror_mode": {
    "name": "ipython",
    "version": 3
   },
   "file_extension": ".py",
   "mimetype": "text/x-python",
   "name": "python",
   "nbconvert_exporter": "python",
   "pygments_lexer": "ipython3",
   "version": "3.11.9"
  }
 },
 "nbformat": 4,
 "nbformat_minor": 5
}
