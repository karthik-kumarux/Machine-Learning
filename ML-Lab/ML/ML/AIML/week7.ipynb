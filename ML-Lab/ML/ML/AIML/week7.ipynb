{
 "cells": [
  {
   "cell_type": "code",
   "execution_count": 1,
   "id": "ee1d56f0-2ffe-4fb1-ab3e-0ae3982df6d5",
   "metadata": {},
   "outputs": [
    {
     "name": "stdout",
     "output_type": "stream",
     "text": [
      "Path found: ['A', 'B', 'D', 'E']\n"
     ]
    }
   ],
   "source": [
    "import heapq\n",
    "\n",
    "class Graph:\n",
    "    def __init__(self):\n",
    "        \"\"\"Initialize the graph as an adjacency list.\"\"\"\n",
    "        self.graph = {}\n",
    "\n",
    "    def add_edge(self, u, v, cost):\n",
    "        \"\"\"Add an edge to the graph.\"\"\"\n",
    "        if u not in self.graph:\n",
    "            self.graph[u] = []\n",
    "        self.graph[u].append((v, cost))\n",
    "\n",
    "    def a_star(self, start, goal, heuristic):\n",
    "        \"\"\"Perform A* search to find the shortest path from start to goal.\"\"\"\n",
    "        open_list = []  # Priority queue\n",
    "        heapq.heappush(open_list, (heuristic[start], start))\n",
    "\n",
    "        g_cost = {start: 0}  # Cost from start to current node\n",
    "        parent = {start: None}  # Store parent nodes for path reconstruction\n",
    "\n",
    "        while open_list:\n",
    "            _, current_node = heapq.heappop(open_list)\n",
    "\n",
    "            if current_node == goal:\n",
    "                path = []\n",
    "                while current_node is not None:\n",
    "                    path.append(current_node)\n",
    "                    current_node = parent[current_node]\n",
    "                return path[::-1]  # Reverse path\n",
    "\n",
    "            for neighbor, cost in self.graph.get(current_node, []):\n",
    "                tentative_g_cost = g_cost[current_node] + cost\n",
    "                if neighbor not in g_cost or tentative_g_cost < g_cost[neighbor]:\n",
    "                    g_cost[neighbor] = tentative_g_cost\n",
    "                    f_cost = tentative_g_cost + heuristic.get(neighbor, float('inf'))\n",
    "                    parent[neighbor] = current_node\n",
    "                    heapq.heappush(open_list, (f_cost, neighbor))\n",
    "\n",
    "        return None  # No path found\n",
    "\n",
    "# Example usage\n",
    "if __name__ == \"__main__\":\n",
    "    g = Graph()\n",
    "    g.add_edge(\"A\", \"B\", 1)\n",
    "    g.add_edge(\"A\", \"C\", 4)\n",
    "    g.add_edge(\"B\", \"D\", 2)\n",
    "    g.add_edge(\"C\", \"D\", 5)\n",
    "    g.add_edge(\"D\", \"E\", 3)\n",
    "\n",
    "    heuristic = {\"A\": 7, \"B\": 6, \"C\": 2, \"D\": 1, \"E\": 0}\n",
    "\n",
    "    start, goal = \"A\", \"E\"\n",
    "    path = g.a_star(start, goal, heuristic)\n",
    "    \n",
    "    print(\"Path found:\", path if path else \"No path found.\")\n"
   ]
  },
  {
   "cell_type": "code",
   "execution_count": 2,
   "id": "1cd41c86-d738-44cc-a913-d42590f2204d",
   "metadata": {},
   "outputs": [
    {
     "name": "stdout",
     "output_type": "stream",
     "text": [
      "Path found: ['F']\n"
     ]
    }
   ],
   "source": [
    "class AOStar:\n",
    "    def __init__(self):\n",
    "        \"\"\"Initialize the graph as an adjacency list.\"\"\"\n",
    "        self.graph = {}\n",
    "\n",
    "    def add_node(self, node, children, relation=\"OR\"):\n",
    "        \"\"\"Add an AND/OR relationship to the graph.\"\"\"\n",
    "        self.graph[node] = {\"children\": children, \"relation\": relation}\n",
    "\n",
    "    def ao_star(self, start, goal):\n",
    "        \"\"\"Perform AO* search to find the optimal path.\"\"\"\n",
    "        open_list = [start]\n",
    "        explored = set()\n",
    "\n",
    "        while open_list:\n",
    "            current_node = open_list.pop(0)\n",
    "\n",
    "            if current_node == goal:\n",
    "                return [current_node]\n",
    "\n",
    "            if current_node not in explored:\n",
    "                explored.add(current_node)\n",
    "                children = self.graph.get(current_node, {}).get(\"children\", [])\n",
    "                relation = self.graph.get(current_node, {}).get(\"relation\", \"OR\")\n",
    "\n",
    "                if relation == \"OR\":\n",
    "                    open_list.extend(children)\n",
    "                elif relation == \"AND\":\n",
    "                    if all(child in explored for child in children):\n",
    "                        open_list.append(current_node) \n",
    "                    else:\n",
    "                        open_list.extend(children)\n",
    "\n",
    "        return None  # No path found\n",
    "\n",
    "# Example usage\n",
    "if __name__ == \"__main__\":\n",
    "    ao = AOStar()\n",
    "    ao.add_node(\"A\", [\"B\", \"C\"], relation=\"OR\")\n",
    "    ao.add_node(\"B\", [\"D\", \"E\"], relation=\"AND\")\n",
    "    ao.add_node(\"C\", [\"F\"], relation=\"OR\")\n",
    "    ao.add_node(\"D\", [], relation=\"OR\")\n",
    "    ao.add_node(\"E\", [], relation=\"OR\")\n",
    "    ao.add_node(\"F\", [], relation=\"OR\")\n",
    "\n",
    "    start, goal = \"A\", \"F\"\n",
    "    path = ao.ao_star(start, goal)\n",
    "\n",
    "    print(\"Path found:\", path if path else \"No path found.\")\n"
   ]
  },
  {
   "cell_type": "code",
   "execution_count": null,
   "id": "41ff3ae9-5cb6-4c8d-815f-c6d41587c88f",
   "metadata": {},
   "outputs": [],
   "source": []
  }
 ],
 "metadata": {
  "kernelspec": {
   "display_name": "Python 3 (ipykernel)",
   "language": "python",
   "name": "python3"
  },
  "language_info": {
   "codemirror_mode": {
    "name": "ipython",
    "version": 3
   },
   "file_extension": ".py",
   "mimetype": "text/x-python",
   "name": "python",
   "nbconvert_exporter": "python",
   "pygments_lexer": "ipython3",
   "version": "3.11.9"
  }
 },
 "nbformat": 4,
 "nbformat_minor": 5
}
