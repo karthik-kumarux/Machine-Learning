{
 "cells": [
  {
   "cell_type": "code",
   "execution_count": 1,
   "id": "3b842182",
   "metadata": {},
   "outputs": [
    {
     "name": "stdout",
     "output_type": "stream",
     "text": [
      "DataFame created from a list of lists: \n",
      "      Name  Age         City\n",
      "0    Alice   25     New York\n",
      "1      Bob   30  Los Angeles\n",
      "2  Charlie   35      Chicago\n"
     ]
    }
   ],
   "source": [
    "\n",
    "# creating dataframe using list\n",
    "import pandas as pd\n",
    "data_list = [['Alice',25,'New York'],['Bob',30,'Los Angeles'],['Charlie',35,'Chicago']]\n",
    "df = pd.DataFrame(data_list,columns=['Name','Age','City'])\n",
    "print(\"DataFame created from a list of lists: \")\n",
    "print(df)"
   ]
  },
  {
   "cell_type": "code",
   "execution_count": 11,
   "id": "bebf101c",
   "metadata": {},
   "outputs": [
    {
     "name": "stdout",
     "output_type": "stream",
     "text": [
      "      Name Age         City\n",
      "0    Alice  25     New York\n",
      "1      Bob  30  Los Angeles\n",
      "2  Charlie  35      Chicago\n"
     ]
    }
   ],
   "source": [
    "# creating Datafrmae using dictionary\n",
    "import pandas as pd\n",
    "data_dict = [{'Name':'Alice','Age':25,'city':'New York'},{'Name':'Bob','Age':30,'city':'Los Angeles'},\n",
    "            {'Name':'Charlie','Age':35,'city':'Chicago'}]\n",
    "df = pd.DataFrame(data_dict)\n",
    "print(\"DataFame created from dictionary: \")\n",
    "print(df)"
   ]
  },
  {
   "cell_type": "code",
   "execution_count": 17,
   "id": "cc2e3b0b",
   "metadata": {},
   "outputs": [
    {
     "name": "stdout",
     "output_type": "stream",
     "text": [
      "      Name Age         City\n",
      "0    Alice  25     New York\n",
      "1      Bob  30  Los Angeles\n",
      "2  Charlie  35      Chicago\n"
     ]
    }
   ],
   "source": [
    "#create an empty Datafrmae and add data\n",
    "import pandas as pd\n",
    "\n",
    "# Creating an empty DataFrame\n",
    "df = pd.DataFrame(columns=['Name', 'Age', 'City'])\n",
    "\n",
    "\n",
    "df1 = pd.DataFrame([{'Name': 'Alice', 'Age': 25, 'City': 'New York'}])\n",
    "df2 = pd.DataFrame([{'Name': 'Bob', 'Age': 30, 'City': 'Los Angeles'}])\n",
    "df3 = pd.DataFrame([{'Name': 'Charlie', 'Age': 35, 'City': 'Chicago'}])\n",
    "\n",
    "\n",
    "df = pd.concat([df, df1, df2, df3], ignore_index=True)\n",
    "\n",
    "\n",
    "print(df)"
   ]
  },
  {
   "cell_type": "code",
   "execution_count": 27,
   "id": "ecafa402",
   "metadata": {},
   "outputs": [
    {
     "name": "stdout",
     "output_type": "stream",
     "text": [
      "DataFrame With Multi-level Index:\n",
      "                 A      B    \n",
      "                 X  Y   X   Y\n",
      "Level 1 Level 2              \n",
      "First   1        1  5   9  13\n",
      "        2        2  6  10  14\n",
      "Second  1        3  7  11  15\n",
      "        2        4  8  12  16\n"
     ]
    }
   ],
   "source": [
    "#create DataFrame with Multi-index for heirarical indexing\n",
    "import pandas as pd\n",
    "\n",
    "\n",
    "data = {('A', 'X'): [1, 2, 3, 4], ('A', 'Y'): [5, 6, 7, 8],\n",
    "        ('B', 'X'): [9, 10, 11, 12], ('B', 'Y'): [13, 14, 15, 16]}\n",
    "\n",
    "# Creating a multi-level index with 4 levels\n",
    "index = pd.MultiIndex.from_tuples([('First', 1), ('First', 2),\n",
    "                                    ('Second', 1), ('Second', 2)],\n",
    "                                   names=['Level 1', 'Level 2'])\n",
    "\n",
    "# Creating the DataFrame with multi-level index\n",
    "df = pd.DataFrame(data, index=index)\n",
    "\n",
    "# Displaying the DataFrame\n",
    "print(\"DataFrame With Multi-level Index:\")\n",
    "print(df)\n",
    "\n"
   ]
  },
  {
   "cell_type": "code",
   "execution_count": 29,
   "id": "cdbb2af5",
   "metadata": {},
   "outputs": [
    {
     "name": "stdout",
     "output_type": "stream",
     "text": [
      "DataFrame created from a numpy array: \n",
      "       A  B  C\n",
      "Row 1  1  2  3\n",
      "Row 2  4  5  6\n",
      "Row 3  7  8  9\n"
     ]
    }
   ],
   "source": [
    "#create a dataframe using numpy\n",
    "import pandas as pd\n",
    "import numpy as np\n",
    "data = np.array([[1,2,3],[4,5,6],[7,8,9]])\n",
    "df = pd.DataFrame(data,columns=['A','B','C'],index=['Row 1','Row 2','Row 3'])\n",
    "print(\"DataFrame created from a numpy array: \")\n",
    "print(df)"
   ]
  },
  {
   "cell_type": "code",
   "execution_count": 34,
   "id": "c181e2fa",
   "metadata": {},
   "outputs": [
    {
     "name": "stdout",
     "output_type": "stream",
     "text": [
      "Summary of Numeric columns using Describe: \n",
      "             Age        Salary\n",
      "count   5.000000      5.000000\n",
      "mean   35.000000  70000.000000\n",
      "std     7.905694  15811.388301\n",
      "min    25.000000  50000.000000\n",
      "25%    30.000000  60000.000000\n",
      "50%    35.000000  70000.000000\n",
      "75%    40.000000  80000.000000\n",
      "max    45.000000  90000.000000\n",
      "Summary of Numeric columns using head: \n",
      "      Name  Age  Salary         City\n",
      "0    Alice   25   50000     New York\n",
      "1      Bob   30   60000  Los Angeles\n",
      "2  Charlie   35   70000      Chicago\n",
      "3    David   40   80000      Houston\n",
      "4      Eva   45   90000      Phoenix\n",
      "Summary of Numeric columns using Tail: \n",
      "      Name  Age  Salary         City\n",
      "0    Alice   25   50000     New York\n",
      "1      Bob   30   60000  Los Angeles\n",
      "2  Charlie   35   70000      Chicago\n",
      "3    David   40   80000      Houston\n",
      "4      Eva   45   90000      Phoenix\n",
      "Summary of Numeric columns using Info: \n",
      "<class 'pandas.core.frame.DataFrame'>\n",
      "RangeIndex: 5 entries, 0 to 4\n",
      "Data columns (total 4 columns):\n",
      " #   Column  Non-Null Count  Dtype \n",
      "---  ------  --------------  ----- \n",
      " 0   Name    5 non-null      object\n",
      " 1   Age     5 non-null      int64 \n",
      " 2   Salary  5 non-null      int64 \n",
      " 3   City    5 non-null      object\n",
      "dtypes: int64(2), object(2)\n",
      "memory usage: 292.0+ bytes\n",
      "None\n"
     ]
    }
   ],
   "source": [
    "# to show pandas method like head(),describe(),tail(),info()\n",
    "import pandas as pd\n",
    "data = {'Name':['Alice','Bob','Charlie','David','Eva'],\n",
    "        'Age':[25,30,35,40,45], 'Salary':[50000,60000,70000,80000,90000], \n",
    "        'City':['New York','Los Angeles','Chicago','Houston','Phoenix']}\n",
    "df = pd.DataFrame(data)\n",
    "print(\"Summary of Numeric columns using Describe: \")\n",
    "print(df.describe())\n",
    "print(\"Summary of Numeric columns using head: \")\n",
    "print(df.head())\n",
    "print(\"Summary of Numeric columns using Tail: \")\n",
    "print(df.tail())\n",
    "print(\"Summary of Numeric columns using Info: \")\n",
    "print(df.info())"
   ]
  },
  {
   "cell_type": "code",
   "execution_count": null,
   "id": "da5fe2a3",
   "metadata": {},
   "outputs": [],
   "source": []
  }
 ],
 "metadata": {
  "kernelspec": {
   "display_name": "Python 3 (ipykernel)",
   "language": "python",
   "name": "python3"
  },
  "language_info": {
   "codemirror_mode": {
    "name": "ipython",
    "version": 3
   },
   "file_extension": ".py",
   "mimetype": "text/x-python",
   "name": "python",
   "nbconvert_exporter": "python",
   "pygments_lexer": "ipython3",
   "version": "3.11.5"
  }
 },
 "nbformat": 4,
 "nbformat_minor": 5
}
